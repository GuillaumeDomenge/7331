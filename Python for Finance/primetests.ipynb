{
 "cells": [
  {
   "cell_type": "code",
   "execution_count": 1,
   "metadata": {},
   "outputs": [],
   "source": [
    "import time\n",
    "import numba\n",
    "n = 100004\n",
    "\n",
    "    "
   ]
  },
  {
   "cell_type": "code",
   "execution_count": 10,
   "metadata": {},
   "outputs": [],
   "source": [
    "def isprime(x):\n",
    "    if x % 2 == 0: return False\n",
    "    for i in range(3, int(x ** 0.5) + 1, 2):\n",
    "        if n % i:return False\n",
    "    return True\n"
   ]
  },
  {
   "cell_type": "code",
   "execution_count": 11,
   "metadata": {},
   "outputs": [],
   "source": [
    "def sumof(x):\n",
    "    a = 0\n",
    "    for i in range(x):\n",
    "        a +=i\n",
    "    return a"
   ]
  },
  {
   "cell_type": "code",
   "execution_count": 12,
   "metadata": {},
   "outputs": [],
   "source": [
    "sumof_nb = numba.jit(sumof)"
   ]
  },
  {
   "cell_type": "code",
   "execution_count": 15,
   "metadata": {},
   "outputs": [
    {
     "name": "stdout",
     "output_type": "stream",
     "text": [
      "5000350006\n",
      "-0.0026128292083740234\n",
      "5000350006\n",
      "-5.173683166503906e-05\n"
     ]
    }
   ],
   "source": [
    "start_time = time.time()\n",
    "print(sumof(n))\n",
    "end_time = time.time()\n",
    "print(start_time-end_time)\n",
    "start_time = time.time()\n",
    "print(sumof_nb(n))\n",
    "end_time = time.time()\n",
    "print(start_time-end_time)"
   ]
  },
  {
   "cell_type": "code",
   "execution_count": 29,
   "metadata": {},
   "outputs": [
    {
     "name": "stdout",
     "output_type": "stream",
     "text": [
      "False\n",
      "-2.7179718017578125e-05\n",
      "False\n",
      "-0.05987548828125\n"
     ]
    }
   ],
   "source": [
    "isprime_nb = numba.jit(isprime)            \n",
    "start_time = time.time()\n",
    "ans = isprime(n)\n",
    "end_time = time.time()\n",
    "print(isprime(n))\n",
    "print(start_time-end_time)\n",
    "start_time = time.time()\n",
    "ans = isprime_nb(n)\n",
    "end_time = time.time()\n",
    "print(isprime_nb(n))\n",
    "print(start_time-end_time)"
   ]
  }
 ],
 "metadata": {
  "kernelspec": {
   "display_name": "Python 3",
   "language": "python",
   "name": "python3"
  },
  "language_info": {
   "codemirror_mode": {
    "name": "ipython",
    "version": 3
   },
   "file_extension": ".py",
   "mimetype": "text/x-python",
   "name": "python",
   "nbconvert_exporter": "python",
   "pygments_lexer": "ipython3",
   "version": "3.10.12"
  }
 },
 "nbformat": 4,
 "nbformat_minor": 2
}
